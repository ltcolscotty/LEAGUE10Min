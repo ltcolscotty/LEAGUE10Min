{
 "cells": [
  {
   "cell_type": "markdown",
   "id": "2ad6c965-6849-42d6-b1d7-80706be45161",
   "metadata": {},
   "source": [
    "Importing packages"
   ]
  },
  {
   "cell_type": "code",
   "execution_count": null,
   "id": "cbb06bb8-530d-410e-b5db-d6c7f5cfd206",
   "metadata": {},
   "outputs": [],
   "source": [
    "import sqlite3\n",
    "\n",
    "import pandas as pd"
   ]
  },
  {
   "cell_type": "code",
   "execution_count": null,
   "id": "99a7653d-a176-40b7-9b6a-b8b0557d333a",
   "metadata": {},
   "outputs": [],
   "source": [
    "data_file = \"high_diamond_ranked_10min.csv\"\n",
    "\n"
   ]
  }
 ],
 "metadata": {
  "kernelspec": {
   "display_name": "Python 3 (ipykernel)",
   "language": "python",
   "name": "python3"
  },
  "language_info": {
   "codemirror_mode": {
    "name": "ipython",
    "version": 3
   },
   "file_extension": ".py",
   "mimetype": "text/x-python",
   "name": "python",
   "nbconvert_exporter": "python",
   "pygments_lexer": "ipython3",
   "version": "3.10.6"
  }
 },
 "nbformat": 4,
 "nbformat_minor": 5
}
