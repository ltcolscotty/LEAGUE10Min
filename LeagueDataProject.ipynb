{
 "cells": [
  {
   "cell_type": "markdown",
   "id": "291834a6-a991-4a2c-9cd0-a469a5af3b93",
   "metadata": {},
   "source": [
    "## Notes\n",
    "\n",
    "Wards placed vs player kills correlation? (With wins only)\n",
    "Wards placed vs player deaths correlation? (With wins only)\n",
    "\n",
    "## Todo\n",
    "\n",
    "Consider getting data visualization lession started for scatter plots"
   ]
  },
  {
   "cell_type": "code",
   "execution_count": 1,
   "id": "cbb06bb8-530d-410e-b5db-d6c7f5cfd206",
   "metadata": {},
   "outputs": [],
   "source": [
    "import matplotlib\n",
    "import matplotlib.pyplot as plt\n",
    "import numpy as np\n",
    "%matplotlib inline\n",
    "import pandas as pd\n",
    "\n",
    "matches_df = pd.read_csv(\"high_diamond_ranked_10min.csv\")"
   ]
  },
  {
   "cell_type": "markdown",
   "id": "3051b11f-728a-42af-a5c0-0c529e2d3b68",
   "metadata": {},
   "source": [
    "## Basic Setup\n",
    "\n",
    "Most of this is just basic setup for config purposes\n",
    "\n",
    "Dataset source: https://www.kaggle.com/datasets/bobbyscience/league-of-legends-diamond-ranked-games-10-min\n",
    "\n",
    "40 columns and, 9.8k rows of data to be used"
   ]
  },
  {
   "cell_type": "code",
   "execution_count": 2,
   "id": "3f7cb003-d531-4dba-b4f1-f803a65477de",
   "metadata": {},
   "outputs": [
    {
     "name": "stdout",
     "output_type": "stream",
     "text": [
      "match_data\n"
     ]
    }
   ],
   "source": [
    "!sqlite3 league_data.sqlite3 \".tables\""
   ]
  },
  {
   "cell_type": "markdown",
   "id": "b48abd6e-e97d-46b6-8836-7a5d2e409535",
   "metadata": {},
   "source": [
    "The only table should be match_data"
   ]
  },
  {
   "cell_type": "code",
   "execution_count": null,
   "id": "a59e999b-791d-4dd4-acca-e39fd39b0409",
   "metadata": {},
   "outputs": [],
   "source": []
  },
  {
   "cell_type": "markdown",
   "id": "f6a619b0-d34c-4791-b2c8-ce177127b00a",
   "metadata": {},
   "source": [
    "## What are the columns and what do they mean?\n",
    "\n",
    "There are 40 columns in the data set, here is what each of them means\n",
    "\n",
    "images will be included later\n",
    "\n",
    "Placables will be marked in RED\n",
    "<br>Entities will be marked in BLUE\n",
    "<br>Structures will be marked in YELLOW\n",
    "\n",
    "\n",
    "<span style=\"color: red\">Wards:</span> Player deployables that allow the placer and allies to view what is happening around the ward until the ward is destroyed\n",
    "<br><span style=\"color: blue\">Elite Monsters:</span> Includes heralds and dragons. Can be used to push a lane a couple times a round\n",
    "<br><span style=\"color: blue\">Minions:</span> basic NPCs that periodically spawn on each team that will follow a track and automatically attack enemy players, NPCs, and towers \n",
    "<br><span style=\"color: yellow\">Towers:</span> (Also referred to as turrets) Part of the default map, they attack enemy NPCs and players. Damaging and eventually destroying towers grants players and allies gold.\n",
    "\n",
    "<br>**gameId:** match id. Won't really be important for analysis of data\n",
    "<br><br>**blueWins:** Boolean value, if 1, then blue won, otherwise red won\n",
    "<br><br>**blueWardsPlaced:** Int, Number of <span style=\"color: red\">Warding totems</span> placed by the blue team.\n",
    "<br><br>**blueWardsDestroyed:** Int, Number of red <span style=\"color: red\">Warding totems</span> destroyed by the blue team\n",
    "<br><br>**blueFirstBlood:** Boolean value, if blue had the first kill of the game, then it is 1\n",
    "<br><br>**blueKills:** Int, Number of kills by the blue team\n",
    "<br><br>**blueDeaths:** Int, Number of times blue team players died\n",
    "<br><br>**blueAssists:** Int, Blue team members assisting other blue team members for a kill\n",
    "<br><br>**blueEliteMonsters:** Int, Number of <span style=\"color: blue\">elite Monsters</span> killed by blue team. (Includes <span style=\"color: blue\">Dragons</span> and <span style=\"color: blue\">Heralds</span>)\n",
    "<br><br>**blueDragons:** Int, number of dragons killed by the blue team\n",
    "<br><br>**blueHeralds:** Int, number of <span style=\"color: blue\">Heralds</span> killed by the blue team\n",
    "<br><br>**blueTowers:** Int, Number of <span style=\"color: yellow\">towers</span> destroyed by the blue team\n",
    "<br><br>**blueTotalGold:** Int, total gold of the blue team\n",
    "<br><br>**blueAvgLevel:** Float, Blue team average champion level (player), goes from 1-18\n",
    "<br><br>**blueTotalExperience:** Int, Total experience by the blue team\n",
    "<br><br>**blueTotalMinionsKilled:** Int, number of <span style=\"color: blue\">Minions</span> killed by the blue team\n",
    "<br><br>**blueTotalJungleMinionsKilled:** Int, Number of <span style=\"color: blue\">jungle monsters</span> killed by the blue team\n",
    "<br><br>**blueTeamGoldDiff:** Int, Difference between gold of the blue and red team\n",
    "<br><br>**blueExperienceDiff:** Int, Difference between experience of blue and red team\n",
    "<br><br>**blueCSPerMin:** Int, Blue team <span style=\"color: blue\">minions</span> per minute\n",
    "<br><br>**blueGoldPerMin:** Int, Blue team Gold per minute\n",
    "\n",
    "# Red Table Stat variants\n",
    "\n",
    "Identical in description to their blue counterparts if they exist\n",
    "\n",
    "**redWardsPlaced**\n",
    "<br>**redWardsDestroyed**\n",
    "<br>**redFirstBlood**\n",
    "<br>**redKills**\n",
    "<br>**redDeaths**\n",
    "<br>**redAssists**\n",
    "<br>**redEliteMonsters**\n",
    "<br>**redDragons**\n",
    "<br>**redHeralds**\n",
    "<br>**redTowersDestroyed**\n",
    "<br>**redTotalGold**\n",
    "<br>**redAvgLevel**\n",
    "<br>**redTotalExperience**\n",
    "<br>**redTotalMinionsKilled**\n",
    "<br>**redTotalJungleMinionsKilled**\n",
    "<br>**redGoldDiff**\n",
    "<br>**redExperienceDiff**\n",
    "<br>**redCSPerMin**\n",
    "<br>**redGoldPerMin**\n",
    "\n",
    "<br>"
   ]
  },
  {
   "cell_type": "code",
   "execution_count": null,
   "id": "99c16e78-3e9b-4d01-b2c0-5789c876ab16",
   "metadata": {},
   "outputs": [],
   "source": []
  },
  {
   "cell_type": "code",
   "execution_count": null,
   "id": "ea4b1247-cf26-4000-b3a4-a39f98249654",
   "metadata": {
    "scrolled": true,
    "tags": []
   },
   "outputs": [],
   "source": []
  },
  {
   "cell_type": "code",
   "execution_count": null,
   "id": "605b8365-67d2-417a-b000-1f1d295cc1ab",
   "metadata": {},
   "outputs": [],
   "source": []
  },
  {
   "cell_type": "code",
   "execution_count": null,
   "id": "99f5340a-caf4-43e0-b9a5-71a6088e702e",
   "metadata": {},
   "outputs": [],
   "source": []
  },
  {
   "cell_type": "markdown",
   "id": "5e8510b6-4bda-4a0a-b986-33e5b09fe5c6",
   "metadata": {},
   "source": [
    "## Analysis I\n",
    "\n",
    "The data from the table shows that there isn't that much correlation between the kills and the wards placed"
   ]
  },
  {
   "cell_type": "code",
   "execution_count": null,
   "id": "5f16e8a2-ad8a-452e-aa78-5b0aa4b528d8",
   "metadata": {},
   "outputs": [],
   "source": []
  },
  {
   "cell_type": "code",
   "execution_count": null,
   "id": "198a632e-b589-4e62-83cb-96d1e4b08906",
   "metadata": {},
   "outputs": [],
   "source": []
  },
  {
   "cell_type": "code",
   "execution_count": null,
   "id": "d84d9f29-e11d-48bb-b9fa-ee2b7a25e3c8",
   "metadata": {},
   "outputs": [],
   "source": []
  },
  {
   "cell_type": "code",
   "execution_count": null,
   "id": "27dd2b83-78fa-467b-8ecb-90647000efdd",
   "metadata": {},
   "outputs": [],
   "source": []
  }
 ],
 "metadata": {
  "kernelspec": {
   "display_name": "Python 3 (ipykernel)",
   "language": "python",
   "name": "python3"
  },
  "language_info": {
   "codemirror_mode": {
    "name": "ipython",
    "version": 3
   },
   "file_extension": ".py",
   "mimetype": "text/x-python",
   "name": "python",
   "nbconvert_exporter": "python",
   "pygments_lexer": "ipython3",
   "version": "3.10.6"
  }
 },
 "nbformat": 4,
 "nbformat_minor": 5
}
